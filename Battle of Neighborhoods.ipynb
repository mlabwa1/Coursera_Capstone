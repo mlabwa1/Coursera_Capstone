{
 "cells": [
  {
   "cell_type": "code",
   "execution_count": 36,
   "id": "4ada551b-bacd-4112-a2dc-bbcd94c678d9",
   "metadata": {},
   "outputs": [
    {
     "data": {
      "text/html": [
       "<div>\n",
       "<style scoped>\n",
       "    .dataframe tbody tr th:only-of-type {\n",
       "        vertical-align: middle;\n",
       "    }\n",
       "\n",
       "    .dataframe tbody tr th {\n",
       "        vertical-align: top;\n",
       "    }\n",
       "\n",
       "    .dataframe thead th {\n",
       "        text-align: right;\n",
       "    }\n",
       "</style>\n",
       "<table border=\"1\" class=\"dataframe\">\n",
       "  <thead>\n",
       "    <tr style=\"text-align: right;\">\n",
       "      <th></th>\n",
       "      <th>District</th>\n",
       "      <th>Population</th>\n",
       "      <th>Area</th>\n",
       "    </tr>\n",
       "  </thead>\n",
       "  <tbody>\n",
       "    <tr>\n",
       "      <th>0</th>\n",
       "      <td>Ilala, Dar es Salaam</td>\n",
       "      <td>1,220,611</td>\n",
       "      <td>210.0</td>\n",
       "    </tr>\n",
       "    <tr>\n",
       "      <th>1</th>\n",
       "      <td>Kinondoni</td>\n",
       "      <td>1,775,049</td>\n",
       "      <td>527.0</td>\n",
       "    </tr>\n",
       "    <tr>\n",
       "      <th>2</th>\n",
       "      <td>Temeke</td>\n",
       "      <td>1,368,881</td>\n",
       "      <td>656.0</td>\n",
       "    </tr>\n",
       "    <tr>\n",
       "      <th>3</th>\n",
       "      <td>Kigamboni</td>\n",
       "      <td>162,932</td>\n",
       "      <td>NaN</td>\n",
       "    </tr>\n",
       "    <tr>\n",
       "      <th>4</th>\n",
       "      <td>Ubungo</td>\n",
       "      <td>845,368</td>\n",
       "      <td>260.0</td>\n",
       "    </tr>\n",
       "  </tbody>\n",
       "</table>\n",
       "</div>"
      ],
      "text/plain": [
       "               District Population   Area\n",
       "0  Ilala, Dar es Salaam  1,220,611  210.0\n",
       "1             Kinondoni  1,775,049  527.0\n",
       "2                Temeke  1,368,881  656.0\n",
       "3             Kigamboni    162,932    NaN\n",
       "4                Ubungo    845,368  260.0"
      ]
     },
     "execution_count": 36,
     "metadata": {},
     "output_type": "execute_result"
    }
   ],
   "source": [
    "import numpy as np \n",
    "import pandas as pd\n",
    "\n",
    "df = pd.read_csv('Downloads\\Dsm.csv')\n",
    "\n",
    "df"
   ]
  },
  {
   "cell_type": "code",
   "execution_count": 37,
   "id": "8eb23be7-6dfc-4135-9d74-cf4f23eff3ef",
   "metadata": {},
   "outputs": [],
   "source": [
    "from geopy.geocoders import Nominatim\n",
    "geolocator = Nominatim(user_agent=\"attractions\")"
   ]
  },
  {
   "cell_type": "code",
   "execution_count": 38,
   "id": "c3babeb4-15fd-49e1-918b-fde8c10b640f",
   "metadata": {},
   "outputs": [],
   "source": [
    "df['gcode'] = df['District'].apply(geolocator.geocode) #just to be sure it is Dar es Salaam\n",
    "df['Latitude'] = [g.latitude for g in df.gcode]\n",
    "df['Longitude'] = [g.longitude for g in df.gcode]"
   ]
  },
  {
   "cell_type": "code",
   "execution_count": 39,
   "id": "feede6e3-0a3d-4039-af4c-076a8ded9717",
   "metadata": {},
   "outputs": [
    {
     "data": {
      "text/html": [
       "<div>\n",
       "<style scoped>\n",
       "    .dataframe tbody tr th:only-of-type {\n",
       "        vertical-align: middle;\n",
       "    }\n",
       "\n",
       "    .dataframe tbody tr th {\n",
       "        vertical-align: top;\n",
       "    }\n",
       "\n",
       "    .dataframe thead th {\n",
       "        text-align: right;\n",
       "    }\n",
       "</style>\n",
       "<table border=\"1\" class=\"dataframe\">\n",
       "  <thead>\n",
       "    <tr style=\"text-align: right;\">\n",
       "      <th></th>\n",
       "      <th>District</th>\n",
       "      <th>Population</th>\n",
       "      <th>Area</th>\n",
       "      <th>gcode</th>\n",
       "      <th>Latitude</th>\n",
       "      <th>Longitude</th>\n",
       "    </tr>\n",
       "  </thead>\n",
       "  <tbody>\n",
       "    <tr>\n",
       "      <th>0</th>\n",
       "      <td>Ilala, Dar es Salaam</td>\n",
       "      <td>1,220,611</td>\n",
       "      <td>210.0</td>\n",
       "      <td>(Ilala, Dar es Salaam, Coastal Zone, Tanzania,...</td>\n",
       "      <td>-6.827253</td>\n",
       "      <td>39.261120</td>\n",
       "    </tr>\n",
       "    <tr>\n",
       "      <th>1</th>\n",
       "      <td>Kinondoni</td>\n",
       "      <td>1,775,049</td>\n",
       "      <td>527.0</td>\n",
       "      <td>(Kinondoni, Dar es Salaam, Coastal Zone, Tanza...</td>\n",
       "      <td>-6.784067</td>\n",
       "      <td>39.270073</td>\n",
       "    </tr>\n",
       "    <tr>\n",
       "      <th>2</th>\n",
       "      <td>Temeke</td>\n",
       "      <td>1,368,881</td>\n",
       "      <td>656.0</td>\n",
       "      <td>(Temeke, Dar es Salaam, Coastal Zone, Tanzania...</td>\n",
       "      <td>-6.851162</td>\n",
       "      <td>39.257311</td>\n",
       "    </tr>\n",
       "    <tr>\n",
       "      <th>3</th>\n",
       "      <td>Kigamboni</td>\n",
       "      <td>162,932</td>\n",
       "      <td>NaN</td>\n",
       "      <td>(Kigamboni, Dar es Salaam, Coastal Zone, 3918,...</td>\n",
       "      <td>-6.825456</td>\n",
       "      <td>39.309409</td>\n",
       "    </tr>\n",
       "    <tr>\n",
       "      <th>4</th>\n",
       "      <td>Ubungo</td>\n",
       "      <td>845,368</td>\n",
       "      <td>260.0</td>\n",
       "      <td>(Ubungo, Kisiwani, Ubungo, Dar es Salaam, Coas...</td>\n",
       "      <td>-6.793623</td>\n",
       "      <td>39.209661</td>\n",
       "    </tr>\n",
       "  </tbody>\n",
       "</table>\n",
       "</div>"
      ],
      "text/plain": [
       "               District Population   Area  \\\n",
       "0  Ilala, Dar es Salaam  1,220,611  210.0   \n",
       "1             Kinondoni  1,775,049  527.0   \n",
       "2                Temeke  1,368,881  656.0   \n",
       "3             Kigamboni    162,932    NaN   \n",
       "4                Ubungo    845,368  260.0   \n",
       "\n",
       "                                               gcode  Latitude  Longitude  \n",
       "0  (Ilala, Dar es Salaam, Coastal Zone, Tanzania,... -6.827253  39.261120  \n",
       "1  (Kinondoni, Dar es Salaam, Coastal Zone, Tanza... -6.784067  39.270073  \n",
       "2  (Temeke, Dar es Salaam, Coastal Zone, Tanzania... -6.851162  39.257311  \n",
       "3  (Kigamboni, Dar es Salaam, Coastal Zone, 3918,... -6.825456  39.309409  \n",
       "4  (Ubungo, Kisiwani, Ubungo, Dar es Salaam, Coas... -6.793623  39.209661  "
      ]
     },
     "execution_count": 39,
     "metadata": {},
     "output_type": "execute_result"
    }
   ],
   "source": [
    "df"
   ]
  },
  {
   "cell_type": "code",
   "execution_count": 40,
   "id": "b586649b-cc9f-47c4-b465-79943c0c22d9",
   "metadata": {},
   "outputs": [],
   "source": [
    "df.drop(\"Population\", axis=1, inplace=True)\n",
    "df.drop(\"Area\", axis=1, inplace=True)\n",
    "df.drop(\"gcode\", axis=1, inplace=True)"
   ]
  },
  {
   "cell_type": "code",
   "execution_count": 41,
   "id": "64d1e53d-34dc-46fa-bf8f-df73d248d0e5",
   "metadata": {},
   "outputs": [
    {
     "data": {
      "text/html": [
       "<div>\n",
       "<style scoped>\n",
       "    .dataframe tbody tr th:only-of-type {\n",
       "        vertical-align: middle;\n",
       "    }\n",
       "\n",
       "    .dataframe tbody tr th {\n",
       "        vertical-align: top;\n",
       "    }\n",
       "\n",
       "    .dataframe thead th {\n",
       "        text-align: right;\n",
       "    }\n",
       "</style>\n",
       "<table border=\"1\" class=\"dataframe\">\n",
       "  <thead>\n",
       "    <tr style=\"text-align: right;\">\n",
       "      <th></th>\n",
       "      <th>District</th>\n",
       "      <th>Latitude</th>\n",
       "      <th>Longitude</th>\n",
       "    </tr>\n",
       "  </thead>\n",
       "  <tbody>\n",
       "    <tr>\n",
       "      <th>0</th>\n",
       "      <td>Ilala, Dar es Salaam</td>\n",
       "      <td>-6.827253</td>\n",
       "      <td>39.261120</td>\n",
       "    </tr>\n",
       "    <tr>\n",
       "      <th>1</th>\n",
       "      <td>Kinondoni</td>\n",
       "      <td>-6.784067</td>\n",
       "      <td>39.270073</td>\n",
       "    </tr>\n",
       "    <tr>\n",
       "      <th>2</th>\n",
       "      <td>Temeke</td>\n",
       "      <td>-6.851162</td>\n",
       "      <td>39.257311</td>\n",
       "    </tr>\n",
       "    <tr>\n",
       "      <th>3</th>\n",
       "      <td>Kigamboni</td>\n",
       "      <td>-6.825456</td>\n",
       "      <td>39.309409</td>\n",
       "    </tr>\n",
       "    <tr>\n",
       "      <th>4</th>\n",
       "      <td>Ubungo</td>\n",
       "      <td>-6.793623</td>\n",
       "      <td>39.209661</td>\n",
       "    </tr>\n",
       "  </tbody>\n",
       "</table>\n",
       "</div>"
      ],
      "text/plain": [
       "               District  Latitude  Longitude\n",
       "0  Ilala, Dar es Salaam -6.827253  39.261120\n",
       "1             Kinondoni -6.784067  39.270073\n",
       "2                Temeke -6.851162  39.257311\n",
       "3             Kigamboni -6.825456  39.309409\n",
       "4                Ubungo -6.793623  39.209661"
      ]
     },
     "execution_count": 41,
     "metadata": {},
     "output_type": "execute_result"
    }
   ],
   "source": [
    "df"
   ]
  },
  {
   "cell_type": "code",
   "execution_count": 42,
   "id": "cb425401-ac6c-47aa-b8d3-9bebca71fb00",
   "metadata": {},
   "outputs": [],
   "source": [
    "import json\n",
    "\n",
    "import requests\n",
    "from pandas.io.json import json_normalize"
   ]
  },
  {
   "cell_type": "code",
   "execution_count": 43,
   "id": "494a20f9-a36f-4f8b-b3e1-94ed296c56fc",
   "metadata": {},
   "outputs": [],
   "source": [
    "import matplotlib.cm as cm\n",
    "import matplotlib.colors as colors"
   ]
  },
  {
   "cell_type": "code",
   "execution_count": 44,
   "id": "51de71bb-2217-47a3-8d35-d813bb514877",
   "metadata": {},
   "outputs": [],
   "source": [
    "from sklearn.cluster import KMeans"
   ]
  },
  {
   "cell_type": "code",
   "execution_count": 45,
   "id": "458ca6cf-0f3d-49c9-a8ad-e5d371648707",
   "metadata": {},
   "outputs": [],
   "source": [
    "import folium"
   ]
  },
  {
   "cell_type": "code",
   "execution_count": 69,
   "id": "32c8d5aa-47d3-49b0-b642-7179aeb1518b",
   "metadata": {},
   "outputs": [
    {
     "name": "stdout",
     "output_type": "stream",
     "text": [
      "Dar es Salaam coordinates: -6.8160837, 39.2803583.\n"
     ]
    },
    {
     "data": {
      "text/html": [
       "<div style=\"width:100%;\"><div style=\"position:relative;width:100%;height:0;padding-bottom:60%;\"><span style=\"color:#565656\">Make this Notebook Trusted to load map: File -> Trust Notebook</span><iframe src=\"about:blank\" style=\"position:absolute;width:100%;height:100%;left:0;top:0;border:none !important;\" data-html=%3C%21DOCTYPE%20html%3E%0A%3Chead%3E%20%20%20%20%0A%20%20%20%20%3Cmeta%20http-equiv%3D%22content-type%22%20content%3D%22text/html%3B%20charset%3DUTF-8%22%20/%3E%0A%20%20%20%20%3Cscript%3EL_PREFER_CANVAS%20%3D%20false%3B%20L_NO_TOUCH%20%3D%20false%3B%20L_DISABLE_3D%20%3D%20false%3B%3C/script%3E%0A%20%20%20%20%3Cscript%20src%3D%22https%3A//cdn.jsdelivr.net/npm/leaflet%401.2.0/dist/leaflet.js%22%3E%3C/script%3E%0A%20%20%20%20%3Cscript%20src%3D%22https%3A//ajax.googleapis.com/ajax/libs/jquery/1.11.1/jquery.min.js%22%3E%3C/script%3E%0A%20%20%20%20%3Cscript%20src%3D%22https%3A//maxcdn.bootstrapcdn.com/bootstrap/3.2.0/js/bootstrap.min.js%22%3E%3C/script%3E%0A%20%20%20%20%3Cscript%20src%3D%22https%3A//cdnjs.cloudflare.com/ajax/libs/Leaflet.awesome-markers/2.0.2/leaflet.awesome-markers.js%22%3E%3C/script%3E%0A%20%20%20%20%3Clink%20rel%3D%22stylesheet%22%20href%3D%22https%3A//cdn.jsdelivr.net/npm/leaflet%401.2.0/dist/leaflet.css%22/%3E%0A%20%20%20%20%3Clink%20rel%3D%22stylesheet%22%20href%3D%22https%3A//maxcdn.bootstrapcdn.com/bootstrap/3.2.0/css/bootstrap.min.css%22/%3E%0A%20%20%20%20%3Clink%20rel%3D%22stylesheet%22%20href%3D%22https%3A//maxcdn.bootstrapcdn.com/bootstrap/3.2.0/css/bootstrap-theme.min.css%22/%3E%0A%20%20%20%20%3Clink%20rel%3D%22stylesheet%22%20href%3D%22https%3A//maxcdn.bootstrapcdn.com/font-awesome/4.6.3/css/font-awesome.min.css%22/%3E%0A%20%20%20%20%3Clink%20rel%3D%22stylesheet%22%20href%3D%22https%3A//cdnjs.cloudflare.com/ajax/libs/Leaflet.awesome-markers/2.0.2/leaflet.awesome-markers.css%22/%3E%0A%20%20%20%20%3Clink%20rel%3D%22stylesheet%22%20href%3D%22https%3A//rawgit.com/python-visualization/folium/master/folium/templates/leaflet.awesome.rotate.css%22/%3E%0A%20%20%20%20%3Cstyle%3Ehtml%2C%20body%20%7Bwidth%3A%20100%25%3Bheight%3A%20100%25%3Bmargin%3A%200%3Bpadding%3A%200%3B%7D%3C/style%3E%0A%20%20%20%20%3Cstyle%3E%23map%20%7Bposition%3Aabsolute%3Btop%3A0%3Bbottom%3A0%3Bright%3A0%3Bleft%3A0%3B%7D%3C/style%3E%0A%20%20%20%20%0A%20%20%20%20%20%20%20%20%20%20%20%20%3Cstyle%3E%20%23map_2ef7e600351b465d87a0cb0e20026f69%20%7B%0A%20%20%20%20%20%20%20%20%20%20%20%20%20%20%20%20position%20%3A%20relative%3B%0A%20%20%20%20%20%20%20%20%20%20%20%20%20%20%20%20width%20%3A%20100.0%25%3B%0A%20%20%20%20%20%20%20%20%20%20%20%20%20%20%20%20height%3A%20100.0%25%3B%0A%20%20%20%20%20%20%20%20%20%20%20%20%20%20%20%20left%3A%200.0%25%3B%0A%20%20%20%20%20%20%20%20%20%20%20%20%20%20%20%20top%3A%200.0%25%3B%0A%20%20%20%20%20%20%20%20%20%20%20%20%20%20%20%20%7D%0A%20%20%20%20%20%20%20%20%20%20%20%20%3C/style%3E%0A%20%20%20%20%20%20%20%20%0A%3C/head%3E%0A%3Cbody%3E%20%20%20%20%0A%20%20%20%20%0A%20%20%20%20%20%20%20%20%20%20%20%20%3Cdiv%20class%3D%22folium-map%22%20id%3D%22map_2ef7e600351b465d87a0cb0e20026f69%22%20%3E%3C/div%3E%0A%20%20%20%20%20%20%20%20%0A%3C/body%3E%0A%3Cscript%3E%20%20%20%20%0A%20%20%20%20%0A%0A%20%20%20%20%20%20%20%20%20%20%20%20%0A%20%20%20%20%20%20%20%20%20%20%20%20%20%20%20%20var%20bounds%20%3D%20null%3B%0A%20%20%20%20%20%20%20%20%20%20%20%20%0A%0A%20%20%20%20%20%20%20%20%20%20%20%20var%20map_2ef7e600351b465d87a0cb0e20026f69%20%3D%20L.map%28%0A%20%20%20%20%20%20%20%20%20%20%20%20%20%20%20%20%20%20%20%20%20%20%20%20%20%20%20%20%20%20%20%20%20%20%27map_2ef7e600351b465d87a0cb0e20026f69%27%2C%0A%20%20%20%20%20%20%20%20%20%20%20%20%20%20%20%20%20%20%20%20%20%20%20%20%20%20%20%20%20%20%20%20%20%20%7Bcenter%3A%20%5B-6.8160837%2C39.2803583%5D%2C%0A%20%20%20%20%20%20%20%20%20%20%20%20%20%20%20%20%20%20%20%20%20%20%20%20%20%20%20%20%20%20%20%20%20%20zoom%3A%2012%2C%0A%20%20%20%20%20%20%20%20%20%20%20%20%20%20%20%20%20%20%20%20%20%20%20%20%20%20%20%20%20%20%20%20%20%20maxBounds%3A%20bounds%2C%0A%20%20%20%20%20%20%20%20%20%20%20%20%20%20%20%20%20%20%20%20%20%20%20%20%20%20%20%20%20%20%20%20%20%20layers%3A%20%5B%5D%2C%0A%20%20%20%20%20%20%20%20%20%20%20%20%20%20%20%20%20%20%20%20%20%20%20%20%20%20%20%20%20%20%20%20%20%20worldCopyJump%3A%20false%2C%0A%20%20%20%20%20%20%20%20%20%20%20%20%20%20%20%20%20%20%20%20%20%20%20%20%20%20%20%20%20%20%20%20%20%20crs%3A%20L.CRS.EPSG3857%0A%20%20%20%20%20%20%20%20%20%20%20%20%20%20%20%20%20%20%20%20%20%20%20%20%20%20%20%20%20%20%20%20%20%7D%29%3B%0A%20%20%20%20%20%20%20%20%20%20%20%20%0A%20%20%20%20%20%20%20%20%0A%20%20%20%20%0A%20%20%20%20%20%20%20%20%20%20%20%20var%20tile_layer_6603891d7f38420880567eea511bf453%20%3D%20L.tileLayer%28%0A%20%20%20%20%20%20%20%20%20%20%20%20%20%20%20%20%27https%3A//%7Bs%7D.tile.openstreetmap.org/%7Bz%7D/%7Bx%7D/%7By%7D.png%27%2C%0A%20%20%20%20%20%20%20%20%20%20%20%20%20%20%20%20%7B%0A%20%20%22attribution%22%3A%20null%2C%0A%20%20%22detectRetina%22%3A%20false%2C%0A%20%20%22maxZoom%22%3A%2018%2C%0A%20%20%22minZoom%22%3A%201%2C%0A%20%20%22noWrap%22%3A%20false%2C%0A%20%20%22subdomains%22%3A%20%22abc%22%0A%7D%0A%20%20%20%20%20%20%20%20%20%20%20%20%20%20%20%20%29.addTo%28map_2ef7e600351b465d87a0cb0e20026f69%29%3B%0A%20%20%20%20%20%20%20%20%0A%20%20%20%20%0A%20%20%20%20%20%20%20%20%20%20%20%20var%20circle_marker_9ad31980a2fb4a9698ee75b9b6ab7c80%20%3D%20L.circleMarker%28%0A%20%20%20%20%20%20%20%20%20%20%20%20%20%20%20%20%5B-6.82725295%2C39.261120377570634%5D%2C%0A%20%20%20%20%20%20%20%20%20%20%20%20%20%20%20%20%7B%0A%20%20%22bubblingMouseEvents%22%3A%20true%2C%0A%20%20%22color%22%3A%20%22%233388ff%22%2C%0A%20%20%22dashArray%22%3A%20null%2C%0A%20%20%22dashOffset%22%3A%20null%2C%0A%20%20%22fill%22%3A%20true%2C%0A%20%20%22fillColor%22%3A%20%22%2300aeef%22%2C%0A%20%20%22fillOpacity%22%3A%201%2C%0A%20%20%22fillRule%22%3A%20%22evenodd%22%2C%0A%20%20%22lineCap%22%3A%20%22round%22%2C%0A%20%20%22lineJoin%22%3A%20%22round%22%2C%0A%20%20%22opacity%22%3A%201.0%2C%0A%20%20%22radius%22%3A%2010%2C%0A%20%20%22stroke%22%3A%20true%2C%0A%20%20%22weight%22%3A%203%0A%7D%0A%20%20%20%20%20%20%20%20%20%20%20%20%20%20%20%20%29.addTo%28map_2ef7e600351b465d87a0cb0e20026f69%29%3B%0A%20%20%20%20%20%20%20%20%20%20%20%20%0A%20%20%20%20%0A%20%20%20%20%20%20%20%20%20%20%20%20var%20popup_982127a7d1404d40a23711fbe06038e1%20%3D%20L.popup%28%7BmaxWidth%3A%20%27300%27%7D%29%3B%0A%0A%20%20%20%20%20%20%20%20%20%20%20%20%0A%20%20%20%20%20%20%20%20%20%20%20%20%20%20%20%20var%20html_5a1183aea431498eb7c489d18b28c807%20%3D%20%24%28%27%3Cdiv%20id%3D%22html_5a1183aea431498eb7c489d18b28c807%22%20style%3D%22width%3A%20100.0%25%3B%20height%3A%20100.0%25%3B%22%3EIlala%2C%20Dar%20es%20Salaam%3C/div%3E%27%29%5B0%5D%3B%0A%20%20%20%20%20%20%20%20%20%20%20%20%20%20%20%20popup_982127a7d1404d40a23711fbe06038e1.setContent%28html_5a1183aea431498eb7c489d18b28c807%29%3B%0A%20%20%20%20%20%20%20%20%20%20%20%20%0A%0A%20%20%20%20%20%20%20%20%20%20%20%20circle_marker_9ad31980a2fb4a9698ee75b9b6ab7c80.bindPopup%28popup_982127a7d1404d40a23711fbe06038e1%29%3B%0A%0A%20%20%20%20%20%20%20%20%20%20%20%20%0A%20%20%20%20%20%20%20%20%0A%20%20%20%20%0A%20%20%20%20%20%20%20%20%20%20%20%20var%20circle_marker_26c0f05f21d4435ea9b7799e78f469ce%20%3D%20L.circleMarker%28%0A%20%20%20%20%20%20%20%20%20%20%20%20%20%20%20%20%5B-6.78406675%2C39.27007338553974%5D%2C%0A%20%20%20%20%20%20%20%20%20%20%20%20%20%20%20%20%7B%0A%20%20%22bubblingMouseEvents%22%3A%20true%2C%0A%20%20%22color%22%3A%20%22%233388ff%22%2C%0A%20%20%22dashArray%22%3A%20null%2C%0A%20%20%22dashOffset%22%3A%20null%2C%0A%20%20%22fill%22%3A%20true%2C%0A%20%20%22fillColor%22%3A%20%22%2300aeef%22%2C%0A%20%20%22fillOpacity%22%3A%201%2C%0A%20%20%22fillRule%22%3A%20%22evenodd%22%2C%0A%20%20%22lineCap%22%3A%20%22round%22%2C%0A%20%20%22lineJoin%22%3A%20%22round%22%2C%0A%20%20%22opacity%22%3A%201.0%2C%0A%20%20%22radius%22%3A%2010%2C%0A%20%20%22stroke%22%3A%20true%2C%0A%20%20%22weight%22%3A%203%0A%7D%0A%20%20%20%20%20%20%20%20%20%20%20%20%20%20%20%20%29.addTo%28map_2ef7e600351b465d87a0cb0e20026f69%29%3B%0A%20%20%20%20%20%20%20%20%20%20%20%20%0A%20%20%20%20%0A%20%20%20%20%20%20%20%20%20%20%20%20var%20popup_a53ac650f8274cc29f63bd67e575e445%20%3D%20L.popup%28%7BmaxWidth%3A%20%27300%27%7D%29%3B%0A%0A%20%20%20%20%20%20%20%20%20%20%20%20%0A%20%20%20%20%20%20%20%20%20%20%20%20%20%20%20%20var%20html_200480ebafb7412fb85e8a3c59d955f6%20%3D%20%24%28%27%3Cdiv%20id%3D%22html_200480ebafb7412fb85e8a3c59d955f6%22%20style%3D%22width%3A%20100.0%25%3B%20height%3A%20100.0%25%3B%22%3EKinondoni%3C/div%3E%27%29%5B0%5D%3B%0A%20%20%20%20%20%20%20%20%20%20%20%20%20%20%20%20popup_a53ac650f8274cc29f63bd67e575e445.setContent%28html_200480ebafb7412fb85e8a3c59d955f6%29%3B%0A%20%20%20%20%20%20%20%20%20%20%20%20%0A%0A%20%20%20%20%20%20%20%20%20%20%20%20circle_marker_26c0f05f21d4435ea9b7799e78f469ce.bindPopup%28popup_a53ac650f8274cc29f63bd67e575e445%29%3B%0A%0A%20%20%20%20%20%20%20%20%20%20%20%20%0A%20%20%20%20%20%20%20%20%0A%20%20%20%20%0A%20%20%20%20%20%20%20%20%20%20%20%20var%20circle_marker_4233261c348649b28a14d13ce4192925%20%3D%20L.circleMarker%28%0A%20%20%20%20%20%20%20%20%20%20%20%20%20%20%20%20%5B-6.85116175%2C39.25731061543114%5D%2C%0A%20%20%20%20%20%20%20%20%20%20%20%20%20%20%20%20%7B%0A%20%20%22bubblingMouseEvents%22%3A%20true%2C%0A%20%20%22color%22%3A%20%22%233388ff%22%2C%0A%20%20%22dashArray%22%3A%20null%2C%0A%20%20%22dashOffset%22%3A%20null%2C%0A%20%20%22fill%22%3A%20true%2C%0A%20%20%22fillColor%22%3A%20%22%2300aeef%22%2C%0A%20%20%22fillOpacity%22%3A%201%2C%0A%20%20%22fillRule%22%3A%20%22evenodd%22%2C%0A%20%20%22lineCap%22%3A%20%22round%22%2C%0A%20%20%22lineJoin%22%3A%20%22round%22%2C%0A%20%20%22opacity%22%3A%201.0%2C%0A%20%20%22radius%22%3A%2010%2C%0A%20%20%22stroke%22%3A%20true%2C%0A%20%20%22weight%22%3A%203%0A%7D%0A%20%20%20%20%20%20%20%20%20%20%20%20%20%20%20%20%29.addTo%28map_2ef7e600351b465d87a0cb0e20026f69%29%3B%0A%20%20%20%20%20%20%20%20%20%20%20%20%0A%20%20%20%20%0A%20%20%20%20%20%20%20%20%20%20%20%20var%20popup_522c0187f2d24c42bdb7a840b2108f74%20%3D%20L.popup%28%7BmaxWidth%3A%20%27300%27%7D%29%3B%0A%0A%20%20%20%20%20%20%20%20%20%20%20%20%0A%20%20%20%20%20%20%20%20%20%20%20%20%20%20%20%20var%20html_b45101d11cc342968ff1fd9dac37d8f9%20%3D%20%24%28%27%3Cdiv%20id%3D%22html_b45101d11cc342968ff1fd9dac37d8f9%22%20style%3D%22width%3A%20100.0%25%3B%20height%3A%20100.0%25%3B%22%3ETemeke%3C/div%3E%27%29%5B0%5D%3B%0A%20%20%20%20%20%20%20%20%20%20%20%20%20%20%20%20popup_522c0187f2d24c42bdb7a840b2108f74.setContent%28html_b45101d11cc342968ff1fd9dac37d8f9%29%3B%0A%20%20%20%20%20%20%20%20%20%20%20%20%0A%0A%20%20%20%20%20%20%20%20%20%20%20%20circle_marker_4233261c348649b28a14d13ce4192925.bindPopup%28popup_522c0187f2d24c42bdb7a840b2108f74%29%3B%0A%0A%20%20%20%20%20%20%20%20%20%20%20%20%0A%20%20%20%20%20%20%20%20%0A%20%20%20%20%0A%20%20%20%20%20%20%20%20%20%20%20%20var%20circle_marker_27561f596a974ffa9234b354031e00ba%20%3D%20L.circleMarker%28%0A%20%20%20%20%20%20%20%20%20%20%20%20%20%20%20%20%5B-6.8254559%2C39.3094094%5D%2C%0A%20%20%20%20%20%20%20%20%20%20%20%20%20%20%20%20%7B%0A%20%20%22bubblingMouseEvents%22%3A%20true%2C%0A%20%20%22color%22%3A%20%22%233388ff%22%2C%0A%20%20%22dashArray%22%3A%20null%2C%0A%20%20%22dashOffset%22%3A%20null%2C%0A%20%20%22fill%22%3A%20true%2C%0A%20%20%22fillColor%22%3A%20%22%2300aeef%22%2C%0A%20%20%22fillOpacity%22%3A%201%2C%0A%20%20%22fillRule%22%3A%20%22evenodd%22%2C%0A%20%20%22lineCap%22%3A%20%22round%22%2C%0A%20%20%22lineJoin%22%3A%20%22round%22%2C%0A%20%20%22opacity%22%3A%201.0%2C%0A%20%20%22radius%22%3A%2010%2C%0A%20%20%22stroke%22%3A%20true%2C%0A%20%20%22weight%22%3A%203%0A%7D%0A%20%20%20%20%20%20%20%20%20%20%20%20%20%20%20%20%29.addTo%28map_2ef7e600351b465d87a0cb0e20026f69%29%3B%0A%20%20%20%20%20%20%20%20%20%20%20%20%0A%20%20%20%20%0A%20%20%20%20%20%20%20%20%20%20%20%20var%20popup_e877debd5cb147d58faa3759b66cebef%20%3D%20L.popup%28%7BmaxWidth%3A%20%27300%27%7D%29%3B%0A%0A%20%20%20%20%20%20%20%20%20%20%20%20%0A%20%20%20%20%20%20%20%20%20%20%20%20%20%20%20%20var%20html_62fc5dc99ba8412eb95f7c559fd39e6e%20%3D%20%24%28%27%3Cdiv%20id%3D%22html_62fc5dc99ba8412eb95f7c559fd39e6e%22%20style%3D%22width%3A%20100.0%25%3B%20height%3A%20100.0%25%3B%22%3EKigamboni%3C/div%3E%27%29%5B0%5D%3B%0A%20%20%20%20%20%20%20%20%20%20%20%20%20%20%20%20popup_e877debd5cb147d58faa3759b66cebef.setContent%28html_62fc5dc99ba8412eb95f7c559fd39e6e%29%3B%0A%20%20%20%20%20%20%20%20%20%20%20%20%0A%0A%20%20%20%20%20%20%20%20%20%20%20%20circle_marker_27561f596a974ffa9234b354031e00ba.bindPopup%28popup_e877debd5cb147d58faa3759b66cebef%29%3B%0A%0A%20%20%20%20%20%20%20%20%20%20%20%20%0A%20%20%20%20%20%20%20%20%0A%20%20%20%20%0A%20%20%20%20%20%20%20%20%20%20%20%20var%20circle_marker_1204cff0ea554bb8adde72420606c57f%20%3D%20L.circleMarker%28%0A%20%20%20%20%20%20%20%20%20%20%20%20%20%20%20%20%5B-6.7936233%2C39.2096611%5D%2C%0A%20%20%20%20%20%20%20%20%20%20%20%20%20%20%20%20%7B%0A%20%20%22bubblingMouseEvents%22%3A%20true%2C%0A%20%20%22color%22%3A%20%22%233388ff%22%2C%0A%20%20%22dashArray%22%3A%20null%2C%0A%20%20%22dashOffset%22%3A%20null%2C%0A%20%20%22fill%22%3A%20true%2C%0A%20%20%22fillColor%22%3A%20%22%2300aeef%22%2C%0A%20%20%22fillOpacity%22%3A%201%2C%0A%20%20%22fillRule%22%3A%20%22evenodd%22%2C%0A%20%20%22lineCap%22%3A%20%22round%22%2C%0A%20%20%22lineJoin%22%3A%20%22round%22%2C%0A%20%20%22opacity%22%3A%201.0%2C%0A%20%20%22radius%22%3A%2010%2C%0A%20%20%22stroke%22%3A%20true%2C%0A%20%20%22weight%22%3A%203%0A%7D%0A%20%20%20%20%20%20%20%20%20%20%20%20%20%20%20%20%29.addTo%28map_2ef7e600351b465d87a0cb0e20026f69%29%3B%0A%20%20%20%20%20%20%20%20%20%20%20%20%0A%20%20%20%20%0A%20%20%20%20%20%20%20%20%20%20%20%20var%20popup_017f1ec00ae04b309373b0333a9afb41%20%3D%20L.popup%28%7BmaxWidth%3A%20%27300%27%7D%29%3B%0A%0A%20%20%20%20%20%20%20%20%20%20%20%20%0A%20%20%20%20%20%20%20%20%20%20%20%20%20%20%20%20var%20html_f83f22c74c8548f08743091956aee98f%20%3D%20%24%28%27%3Cdiv%20id%3D%22html_f83f22c74c8548f08743091956aee98f%22%20style%3D%22width%3A%20100.0%25%3B%20height%3A%20100.0%25%3B%22%3EUbungo%3C/div%3E%27%29%5B0%5D%3B%0A%20%20%20%20%20%20%20%20%20%20%20%20%20%20%20%20popup_017f1ec00ae04b309373b0333a9afb41.setContent%28html_f83f22c74c8548f08743091956aee98f%29%3B%0A%20%20%20%20%20%20%20%20%20%20%20%20%0A%0A%20%20%20%20%20%20%20%20%20%20%20%20circle_marker_1204cff0ea554bb8adde72420606c57f.bindPopup%28popup_017f1ec00ae04b309373b0333a9afb41%29%3B%0A%0A%20%20%20%20%20%20%20%20%20%20%20%20%0A%20%20%20%20%20%20%20%20%0A%3C/script%3E onload=\"this.contentDocument.open();this.contentDocument.write(    decodeURIComponent(this.getAttribute('data-html')));this.contentDocument.close();\" allowfullscreen webkitallowfullscreen mozallowfullscreen></iframe></div></div>"
      ],
      "text/plain": [
       "<folium.folium.Map at 0x2bb28107070>"
      ]
     },
     "execution_count": 69,
     "metadata": {},
     "output_type": "execute_result"
    }
   ],
   "source": [
    "address = 'Dar es Salaam'\n",
    "\n",
    "geolocator = Nominatim(user_agent=\"attractions\")\n",
    "location = geolocator.geocode(address)\n",
    "latitude = location.latitude\n",
    "longitude = location.longitude\n",
    "print('Dar es Salaam coordinates: {}, {}.'.format(latitude, longitude))\n",
    "\n",
    "dsm = folium.Map(location=[latitude, longitude], zoom_start=12)\n",
    "\n",
    "for lat, lng, label in zip(df['Latitude'], df['Longitude'], df['District']):\n",
    "    label = folium.Popup(label, parse_html=True)\n",
    "    folium.CircleMarker(\n",
    "        [lat, lng],\n",
    "        radius=10,\n",
    "        popup=label,\n",
    "        fill=True,\n",
    "        fill_color='#00aeef',\n",
    "        fill_opacity=1,\n",
    "        parse_html=False).add_to(dsm) \n",
    "    \n",
    "dsm"
   ]
  },
  {
   "cell_type": "code",
   "execution_count": 47,
   "id": "eee54b90-1374-45d6-87a9-d12a3bb863da",
   "metadata": {},
   "outputs": [],
   "source": [
    "CLIENT_ID = '45MMPR3WB0KPVEIB2SO1NLXJIIYWEFND0JLH5XO5T0WME5TC'\n",
    "CLIENT_SECRET = 'EKAYMMJACFRULXKRHZATHDIQZXTNYMAG3VZ2UW5Y112AX2GM'\n",
    "VERSION = '20210603'"
   ]
  },
  {
   "cell_type": "code",
   "execution_count": 48,
   "id": "73dca44a-0d96-4084-832a-618cf5f8e6d1",
   "metadata": {},
   "outputs": [],
   "source": [
    "lat = df.loc[0, 'Latitude']\n",
    "long = df.loc[0, 'Longitude']"
   ]
  },
  {
   "cell_type": "code",
   "execution_count": 49,
   "id": "db961fd2-e6e8-425f-8785-df8c8aeeab3c",
   "metadata": {},
   "outputs": [
    {
     "data": {
      "text/plain": [
       "'https://api.foursquare.com/v2/venues/explore?&client_id=45MMPR3WB0KPVEIB2SO1NLXJIIYWEFND0JLH5XO5T0WME5TC&client_secret=EKAYMMJACFRULXKRHZATHDIQZXTNYMAG3VZ2UW5Y112AX2GM&v=20210603&ll=-6.82725295,39.261120377570634&radius=10000&limit=210'"
      ]
     },
     "execution_count": 49,
     "metadata": {},
     "output_type": "execute_result"
    }
   ],
   "source": [
    "radius = 10000\n",
    "limit = 210\n",
    "url = 'https://api.foursquare.com/v2/venues/explore?&client_id={}&client_secret={}&v={}&ll={},{}&radius={}&limit={}'.format(\n",
    "    CLIENT_ID, \n",
    "    CLIENT_SECRET, \n",
    "    VERSION, \n",
    "    lat, \n",
    "    long, \n",
    "    radius,\n",
    "    limit)\n",
    "url"
   ]
  },
  {
   "cell_type": "code",
   "execution_count": 50,
   "id": "54a04367-fbcc-42e9-bbce-ea0dd906e5c9",
   "metadata": {},
   "outputs": [],
   "source": [
    "places = requests.get(url).json()"
   ]
  },
  {
   "cell_type": "code",
   "execution_count": 51,
   "id": "8fdf276a-5304-4785-b40e-1d2d4001e457",
   "metadata": {},
   "outputs": [],
   "source": [
    "def get_category_type(row):\n",
    "    try:\n",
    "        categories_list = row['categories']\n",
    "    except:\n",
    "        categories_list = row['venue.categories']\n",
    "        \n",
    "    if len(categories_list) == 0:\n",
    "        return None\n",
    "    else:\n",
    "        return categories_list[0]['name']"
   ]
  },
  {
   "cell_type": "code",
   "execution_count": 70,
   "id": "2adb2db5-f205-4fc4-b31a-80a5453c836f",
   "metadata": {},
   "outputs": [
    {
     "name": "stderr",
     "output_type": "stream",
     "text": [
      "<ipython-input-70-1c3ace3321dc>:3: FutureWarning: pandas.io.json.json_normalize is deprecated, use pandas.json_normalize instead\n",
      "  nearby_venues = json_normalize(venues)\n"
     ]
    },
    {
     "data": {
      "text/html": [
       "<div>\n",
       "<style scoped>\n",
       "    .dataframe tbody tr th:only-of-type {\n",
       "        vertical-align: middle;\n",
       "    }\n",
       "\n",
       "    .dataframe tbody tr th {\n",
       "        vertical-align: top;\n",
       "    }\n",
       "\n",
       "    .dataframe thead th {\n",
       "        text-align: right;\n",
       "    }\n",
       "</style>\n",
       "<table border=\"1\" class=\"dataframe\">\n",
       "  <thead>\n",
       "    <tr style=\"text-align: right;\">\n",
       "      <th></th>\n",
       "      <th>name</th>\n",
       "      <th>categories</th>\n",
       "    </tr>\n",
       "  </thead>\n",
       "  <tbody>\n",
       "    <tr>\n",
       "      <th>0</th>\n",
       "      <td>Snocream</td>\n",
       "      <td>Ice Cream Shop</td>\n",
       "    </tr>\n",
       "    <tr>\n",
       "      <th>1</th>\n",
       "      <td>Le Grande Restaurant</td>\n",
       "      <td>American Restaurant</td>\n",
       "    </tr>\n",
       "    <tr>\n",
       "      <th>2</th>\n",
       "      <td>Hyatt Regency Dar Es Salaam, The Kilimanjaro</td>\n",
       "      <td>Hotel</td>\n",
       "    </tr>\n",
       "    <tr>\n",
       "      <th>3</th>\n",
       "      <td>Samaki Samaki</td>\n",
       "      <td>Seafood Restaurant</td>\n",
       "    </tr>\n",
       "    <tr>\n",
       "      <th>4</th>\n",
       "      <td>Princess casino</td>\n",
       "      <td>Casino</td>\n",
       "    </tr>\n",
       "  </tbody>\n",
       "</table>\n",
       "</div>"
      ],
      "text/plain": [
       "                                           name           categories\n",
       "0                                      Snocream       Ice Cream Shop\n",
       "1                          Le Grande Restaurant  American Restaurant\n",
       "2  Hyatt Regency Dar Es Salaam, The Kilimanjaro                Hotel\n",
       "3                                 Samaki Samaki   Seafood Restaurant\n",
       "4                               Princess casino               Casino"
      ]
     },
     "execution_count": 70,
     "metadata": {},
     "output_type": "execute_result"
    }
   ],
   "source": [
    "venues = places['response']['groups'][0]['items']\n",
    "    \n",
    "nearby_venues = json_normalize(venues)\n",
    "\n",
    "filtered_columns = ['venue.name', 'venue.categories']\n",
    "nearby_venues =nearby_venues.loc[:, filtered_columns]\n",
    "\n",
    "nearby_venues['venue.categories'] = nearby_venues.apply(get_category_type, axis=1)\n",
    "\n",
    "nearby_venues.columns = [col.split(\".\")[-1] for col in nearby_venues.columns]\n",
    "\n",
    "nearby_venues.head()"
   ]
  },
  {
   "cell_type": "code",
   "execution_count": 21,
   "id": "484bc14c-526f-4c12-8033-790fd3e376c5",
   "metadata": {},
   "outputs": [
    {
     "name": "stdout",
     "output_type": "stream",
     "text": [
      "32 unique categories in Ilala.\n"
     ]
    }
   ],
   "source": [
    "print ('{} unique categories in Ilala.'.format(nearby_venues['categories'].value_counts().shape[0]))"
   ]
  },
  {
   "cell_type": "code",
   "execution_count": 53,
   "id": "478f5ec9-2b7c-4534-b77d-c765ac1b2442",
   "metadata": {},
   "outputs": [
    {
     "name": "stdout",
     "output_type": "stream",
     "text": [
      "Hotel                   4\n",
      "Café                    4\n",
      "Restaurant              4\n",
      "Bar                     3\n",
      "African Restaurant      2\n",
      "Bus Station             2\n",
      "Airport Terminal        2\n",
      "Beach                   2\n",
      "Lounge                  2\n",
      "Seafood Restaurant      2\n",
      "Train Station           1\n",
      "Thai Restaurant         1\n",
      "Fish & Chips Shop       1\n",
      "Chinese Restaurant      1\n",
      "Hotel Bar               1\n",
      "Ice Cream Shop          1\n",
      "Market                  1\n",
      "Ethiopian Restaurant    1\n",
      "Caribbean Restaurant    1\n",
      "Sports Bar              1\n",
      "Casino                  1\n",
      "Steakhouse              1\n",
      "American Restaurant     1\n",
      "Fast Food Restaurant    1\n",
      "Japanese Restaurant     1\n",
      "Bakery                  1\n",
      "BBQ Joint               1\n",
      "Coffee Shop             1\n",
      "Pizza Place             1\n",
      "Pub                     1\n",
      "Name: categories, dtype: int64\n"
     ]
    }
   ],
   "source": [
    "print (nearby_venues['categories'].value_counts()[0:30])"
   ]
  },
  {
   "cell_type": "code",
   "execution_count": 54,
   "id": "37f6b6c3-f353-4626-a5ea-8d9742c77d0e",
   "metadata": {},
   "outputs": [],
   "source": [
    "def getNearbyVenues(names, latitudes, longitudes, radius=10000, LIMIT=1000):\n",
    "    \n",
    "    venues_list=[]\n",
    "    for name, lat, lng in zip(names, latitudes, longitudes):\n",
    "        print(name)\n",
    "            \n",
    "        url = 'https://api.foursquare.com/v2/venues/explore?&client_id={}&client_secret={}&v={}&ll={},{}&radius={}&limit={}'.format(\n",
    "            CLIENT_ID, \n",
    "            CLIENT_SECRET, \n",
    "            VERSION, \n",
    "            lat, \n",
    "            lng, \n",
    "            radius, \n",
    "            LIMIT)\n",
    "            \n",
    "        results = requests.get(url).json()[\"response\"]['groups'][0]['items']\n",
    "        \n",
    "        venues_list.append([(\n",
    "            name, \n",
    "            lat, \n",
    "            lng, \n",
    "            v['venue']['name'], \n",
    "            v['venue']['location']['lat'], \n",
    "            v['venue']['location']['lng'],  \n",
    "            v['venue']['categories'][0]['name']) for v in results])\n",
    "\n",
    "    nearby_venues = pd.DataFrame([item for venue_list in venues_list for item in venue_list])\n",
    "    nearby_venues.columns = ['Neighborhood', \n",
    "                  'Neighborhood Latitude', \n",
    "                  'Neighborhood Longitude', \n",
    "                  'Venue', \n",
    "                  'Venue Latitude', \n",
    "                  'Venue Longitude', \n",
    "                  'Venue Category']\n",
    "\n",
    "    \n",
    "    return(nearby_venues)"
   ]
  },
  {
   "cell_type": "code",
   "execution_count": 55,
   "id": "de09e65e-84d4-4839-9079-f79947dcf6f6",
   "metadata": {},
   "outputs": [
    {
     "name": "stdout",
     "output_type": "stream",
     "text": [
      "Ilala, Dar es Salaam\n",
      "Kinondoni\n",
      "Temeke\n",
      "Kigamboni\n",
      "Ubungo\n"
     ]
    }
   ],
   "source": [
    "dsm_places = getNearbyVenues(names=df['District'],\n",
    "                                   latitudes=df['Latitude'],\n",
    "                                   longitudes=df['Longitude']\n",
    "                                  )"
   ]
  },
  {
   "cell_type": "code",
   "execution_count": 84,
   "id": "ba5de91d-0cbe-4f04-85d3-f1041589524e",
   "metadata": {},
   "outputs": [],
   "source": [
    "dsm_restaurants = dsm_places[dsm_places['Venue Category'].str.contains('Beach')].reset_index(drop=True)\n",
    "dsm_restaurants.index = np.arange(1, len(dsm_restaurants)+1)"
   ]
  },
  {
   "cell_type": "code",
   "execution_count": 85,
   "id": "c062fa2f-8a8e-49e8-bc61-ccb416b0aa12",
   "metadata": {},
   "outputs": [
    {
     "name": "stdout",
     "output_type": "stream",
     "text": [
      "Beach    10\n",
      "Name: Venue Category, dtype: int64\n"
     ]
    }
   ],
   "source": [
    "print (dsm_restaurants['Venue Category'].value_counts())"
   ]
  },
  {
   "cell_type": "code",
   "execution_count": 86,
   "id": "0bf19975-6041-4376-bd86-1f68b54bed56",
   "metadata": {},
   "outputs": [
    {
     "data": {
      "text/html": [
       "<div>\n",
       "<style scoped>\n",
       "    .dataframe tbody tr th:only-of-type {\n",
       "        vertical-align: middle;\n",
       "    }\n",
       "\n",
       "    .dataframe tbody tr th {\n",
       "        vertical-align: top;\n",
       "    }\n",
       "\n",
       "    .dataframe thead th {\n",
       "        text-align: right;\n",
       "    }\n",
       "</style>\n",
       "<table border=\"1\" class=\"dataframe\">\n",
       "  <thead>\n",
       "    <tr style=\"text-align: right;\">\n",
       "      <th></th>\n",
       "      <th>Venue_Category</th>\n",
       "      <th>Frequency</th>\n",
       "    </tr>\n",
       "  </thead>\n",
       "  <tbody>\n",
       "    <tr>\n",
       "      <th>0</th>\n",
       "      <td>Beach</td>\n",
       "      <td>10</td>\n",
       "    </tr>\n",
       "  </tbody>\n",
       "</table>\n",
       "</div>"
      ],
      "text/plain": [
       "  Venue_Category  Frequency\n",
       "0          Beach         10"
      ]
     },
     "execution_count": 86,
     "metadata": {},
     "output_type": "execute_result"
    }
   ],
   "source": [
    "top_spots = dsm_restaurants['Venue Category'].value_counts()[0:10].to_frame(name='frequency')\n",
    "top_spots=top_spots.reset_index()\n",
    "top_spots.rename(index=str, columns={\"index\": \"Venue_Category\", \"frequency\": \"Frequency\"}, inplace=True)\n",
    "top_spots"
   ]
  },
  {
   "cell_type": "code",
   "execution_count": 87,
   "id": "5ffadc5d-a42b-483d-9158-d0696dda95ba",
   "metadata": {},
   "outputs": [
    {
     "data": {
      "text/html": [
       "<div>\n",
       "<style scoped>\n",
       "    .dataframe tbody tr th:only-of-type {\n",
       "        vertical-align: middle;\n",
       "    }\n",
       "\n",
       "    .dataframe tbody tr th {\n",
       "        vertical-align: top;\n",
       "    }\n",
       "\n",
       "    .dataframe thead th {\n",
       "        text-align: right;\n",
       "    }\n",
       "</style>\n",
       "<table border=\"1\" class=\"dataframe\">\n",
       "  <thead>\n",
       "    <tr style=\"text-align: right;\">\n",
       "      <th></th>\n",
       "      <th>Neighborhood</th>\n",
       "      <th>Neighborhood Latitude</th>\n",
       "      <th>Neighborhood Longitude</th>\n",
       "      <th>Venue</th>\n",
       "      <th>Venue Latitude</th>\n",
       "      <th>Venue Longitude</th>\n",
       "      <th>Venue Category</th>\n",
       "    </tr>\n",
       "  </thead>\n",
       "  <tbody>\n",
       "    <tr>\n",
       "      <th>1</th>\n",
       "      <td>Ilala, Dar es Salaam</td>\n",
       "      <td>-6.827253</td>\n",
       "      <td>39.261120</td>\n",
       "      <td>Yacht Club</td>\n",
       "      <td>-6.744274</td>\n",
       "      <td>39.275062</td>\n",
       "      <td>Beach</td>\n",
       "    </tr>\n",
       "    <tr>\n",
       "      <th>2</th>\n",
       "      <td>Ilala, Dar es Salaam</td>\n",
       "      <td>-6.827253</td>\n",
       "      <td>39.261120</td>\n",
       "      <td>Mikadi Beach Camp</td>\n",
       "      <td>-6.819225</td>\n",
       "      <td>39.321361</td>\n",
       "      <td>Beach</td>\n",
       "    </tr>\n",
       "    <tr>\n",
       "      <th>3</th>\n",
       "      <td>Kinondoni</td>\n",
       "      <td>-6.784067</td>\n",
       "      <td>39.270073</td>\n",
       "      <td>Yacht Club</td>\n",
       "      <td>-6.744274</td>\n",
       "      <td>39.275062</td>\n",
       "      <td>Beach</td>\n",
       "    </tr>\n",
       "    <tr>\n",
       "      <th>4</th>\n",
       "      <td>Kinondoni</td>\n",
       "      <td>-6.784067</td>\n",
       "      <td>39.270073</td>\n",
       "      <td>Mikadi Beach Camp</td>\n",
       "      <td>-6.819225</td>\n",
       "      <td>39.321361</td>\n",
       "      <td>Beach</td>\n",
       "    </tr>\n",
       "    <tr>\n",
       "      <th>5</th>\n",
       "      <td>Temeke</td>\n",
       "      <td>-6.851162</td>\n",
       "      <td>39.257311</td>\n",
       "      <td>Mikadi Beach Camp</td>\n",
       "      <td>-6.819225</td>\n",
       "      <td>39.321361</td>\n",
       "      <td>Beach</td>\n",
       "    </tr>\n",
       "    <tr>\n",
       "      <th>6</th>\n",
       "      <td>Temeke</td>\n",
       "      <td>-6.851162</td>\n",
       "      <td>39.257311</td>\n",
       "      <td>Oysterbay By The Beach</td>\n",
       "      <td>-6.773446</td>\n",
       "      <td>39.282553</td>\n",
       "      <td>Beach</td>\n",
       "    </tr>\n",
       "    <tr>\n",
       "      <th>7</th>\n",
       "      <td>Temeke</td>\n",
       "      <td>-6.851162</td>\n",
       "      <td>39.257311</td>\n",
       "      <td>Coco Beach</td>\n",
       "      <td>-6.768204</td>\n",
       "      <td>39.282242</td>\n",
       "      <td>Beach</td>\n",
       "    </tr>\n",
       "    <tr>\n",
       "      <th>8</th>\n",
       "      <td>Kigamboni</td>\n",
       "      <td>-6.825456</td>\n",
       "      <td>39.309409</td>\n",
       "      <td>Yacht Club</td>\n",
       "      <td>-6.744274</td>\n",
       "      <td>39.275062</td>\n",
       "      <td>Beach</td>\n",
       "    </tr>\n",
       "    <tr>\n",
       "      <th>9</th>\n",
       "      <td>Kigamboni</td>\n",
       "      <td>-6.825456</td>\n",
       "      <td>39.309409</td>\n",
       "      <td>Mikadi Beach Camp</td>\n",
       "      <td>-6.819225</td>\n",
       "      <td>39.321361</td>\n",
       "      <td>Beach</td>\n",
       "    </tr>\n",
       "    <tr>\n",
       "      <th>10</th>\n",
       "      <td>Ubungo</td>\n",
       "      <td>-6.793623</td>\n",
       "      <td>39.209661</td>\n",
       "      <td>Yacht Club</td>\n",
       "      <td>-6.744274</td>\n",
       "      <td>39.275062</td>\n",
       "      <td>Beach</td>\n",
       "    </tr>\n",
       "  </tbody>\n",
       "</table>\n",
       "</div>"
      ],
      "text/plain": [
       "            Neighborhood  Neighborhood Latitude  Neighborhood Longitude  \\\n",
       "1   Ilala, Dar es Salaam              -6.827253               39.261120   \n",
       "2   Ilala, Dar es Salaam              -6.827253               39.261120   \n",
       "3              Kinondoni              -6.784067               39.270073   \n",
       "4              Kinondoni              -6.784067               39.270073   \n",
       "5                 Temeke              -6.851162               39.257311   \n",
       "6                 Temeke              -6.851162               39.257311   \n",
       "7                 Temeke              -6.851162               39.257311   \n",
       "8              Kigamboni              -6.825456               39.309409   \n",
       "9              Kigamboni              -6.825456               39.309409   \n",
       "10                Ubungo              -6.793623               39.209661   \n",
       "\n",
       "                     Venue  Venue Latitude  Venue Longitude Venue Category  \n",
       "1               Yacht Club       -6.744274        39.275062          Beach  \n",
       "2        Mikadi Beach Camp       -6.819225        39.321361          Beach  \n",
       "3               Yacht Club       -6.744274        39.275062          Beach  \n",
       "4        Mikadi Beach Camp       -6.819225        39.321361          Beach  \n",
       "5        Mikadi Beach Camp       -6.819225        39.321361          Beach  \n",
       "6   Oysterbay By The Beach       -6.773446        39.282553          Beach  \n",
       "7               Coco Beach       -6.768204        39.282242          Beach  \n",
       "8               Yacht Club       -6.744274        39.275062          Beach  \n",
       "9        Mikadi Beach Camp       -6.819225        39.321361          Beach  \n",
       "10              Yacht Club       -6.744274        39.275062          Beach  "
      ]
     },
     "execution_count": 87,
     "metadata": {},
     "output_type": "execute_result"
    }
   ],
   "source": [
    "dsm_restaurants.head(50)"
   ]
  },
  {
   "cell_type": "code",
   "execution_count": 88,
   "id": "ec9060f9-322a-4c45-a6e3-438f7aef1c71",
   "metadata": {},
   "outputs": [],
   "source": [
    "districts_restaurant = dsm_restaurants.groupby(['Neighborhood'])['Venue Category'].apply(lambda x: x[x.str.contains('Beach')].count())"
   ]
  },
  {
   "cell_type": "code",
   "execution_count": 89,
   "id": "2a6918ae-9e5f-4702-84f7-26147b48e26f",
   "metadata": {},
   "outputs": [
    {
     "data": {
      "text/plain": [
       "Neighborhood\n",
       "Ilala, Dar es Salaam    2\n",
       "Kigamboni               2\n",
       "Kinondoni               2\n",
       "Temeke                  3\n",
       "Ubungo                  1\n",
       "Name: Venue Category, dtype: int64"
      ]
     },
     "execution_count": 89,
     "metadata": {},
     "output_type": "execute_result"
    }
   ],
   "source": [
    "districts_restaurant"
   ]
  },
  {
   "cell_type": "code",
   "execution_count": 90,
   "id": "22bcae73-925c-43e3-a33a-46d7115c3e66",
   "metadata": {},
   "outputs": [
    {
     "data": {
      "text/plain": [
       "Neighborhood\n",
       "Ilala, Dar es Salaam    2\n",
       "Kigamboni               2\n",
       "Kinondoni               2\n",
       "Temeke                  3\n",
       "Ubungo                  1\n",
       "Name: Venue Category, dtype: int64"
      ]
     },
     "execution_count": 90,
     "metadata": {},
     "output_type": "execute_result"
    }
   ],
   "source": [
    "districts_restaurant"
   ]
  },
  {
   "cell_type": "code",
   "execution_count": 91,
   "id": "b3de6960-dd4c-4457-ba4a-71f470970560",
   "metadata": {},
   "outputs": [],
   "source": [
    "dsm_restaurants.drop(\"Neighborhood Latitude\", axis=1, inplace=True)\n",
    "dsm_restaurants.drop(\"Neighborhood Longitude\", axis=1, inplace=True)\n",
    "dsm_restaurants.drop(\"Venue Latitude\", axis=1, inplace=True)\n",
    "dsm_restaurants.drop(\"Venue Longitude\", axis=1, inplace=True)"
   ]
  },
  {
   "cell_type": "code",
   "execution_count": 92,
   "id": "919215dc-88d1-405c-997c-a6ef99e152ab",
   "metadata": {},
   "outputs": [
    {
     "data": {
      "text/html": [
       "<div>\n",
       "<style scoped>\n",
       "    .dataframe tbody tr th:only-of-type {\n",
       "        vertical-align: middle;\n",
       "    }\n",
       "\n",
       "    .dataframe tbody tr th {\n",
       "        vertical-align: top;\n",
       "    }\n",
       "\n",
       "    .dataframe thead th {\n",
       "        text-align: right;\n",
       "    }\n",
       "</style>\n",
       "<table border=\"1\" class=\"dataframe\">\n",
       "  <thead>\n",
       "    <tr style=\"text-align: right;\">\n",
       "      <th></th>\n",
       "      <th>Neighborhood</th>\n",
       "      <th>Venue</th>\n",
       "      <th>Venue Category</th>\n",
       "    </tr>\n",
       "  </thead>\n",
       "  <tbody>\n",
       "    <tr>\n",
       "      <th>1</th>\n",
       "      <td>Ilala, Dar es Salaam</td>\n",
       "      <td>Yacht Club</td>\n",
       "      <td>Beach</td>\n",
       "    </tr>\n",
       "    <tr>\n",
       "      <th>2</th>\n",
       "      <td>Ilala, Dar es Salaam</td>\n",
       "      <td>Mikadi Beach Camp</td>\n",
       "      <td>Beach</td>\n",
       "    </tr>\n",
       "    <tr>\n",
       "      <th>3</th>\n",
       "      <td>Kinondoni</td>\n",
       "      <td>Yacht Club</td>\n",
       "      <td>Beach</td>\n",
       "    </tr>\n",
       "    <tr>\n",
       "      <th>4</th>\n",
       "      <td>Kinondoni</td>\n",
       "      <td>Mikadi Beach Camp</td>\n",
       "      <td>Beach</td>\n",
       "    </tr>\n",
       "    <tr>\n",
       "      <th>5</th>\n",
       "      <td>Temeke</td>\n",
       "      <td>Mikadi Beach Camp</td>\n",
       "      <td>Beach</td>\n",
       "    </tr>\n",
       "    <tr>\n",
       "      <th>6</th>\n",
       "      <td>Temeke</td>\n",
       "      <td>Oysterbay By The Beach</td>\n",
       "      <td>Beach</td>\n",
       "    </tr>\n",
       "    <tr>\n",
       "      <th>7</th>\n",
       "      <td>Temeke</td>\n",
       "      <td>Coco Beach</td>\n",
       "      <td>Beach</td>\n",
       "    </tr>\n",
       "    <tr>\n",
       "      <th>8</th>\n",
       "      <td>Kigamboni</td>\n",
       "      <td>Yacht Club</td>\n",
       "      <td>Beach</td>\n",
       "    </tr>\n",
       "    <tr>\n",
       "      <th>9</th>\n",
       "      <td>Kigamboni</td>\n",
       "      <td>Mikadi Beach Camp</td>\n",
       "      <td>Beach</td>\n",
       "    </tr>\n",
       "    <tr>\n",
       "      <th>10</th>\n",
       "      <td>Ubungo</td>\n",
       "      <td>Yacht Club</td>\n",
       "      <td>Beach</td>\n",
       "    </tr>\n",
       "  </tbody>\n",
       "</table>\n",
       "</div>"
      ],
      "text/plain": [
       "            Neighborhood                   Venue Venue Category\n",
       "1   Ilala, Dar es Salaam              Yacht Club          Beach\n",
       "2   Ilala, Dar es Salaam       Mikadi Beach Camp          Beach\n",
       "3              Kinondoni              Yacht Club          Beach\n",
       "4              Kinondoni       Mikadi Beach Camp          Beach\n",
       "5                 Temeke       Mikadi Beach Camp          Beach\n",
       "6                 Temeke  Oysterbay By The Beach          Beach\n",
       "7                 Temeke              Coco Beach          Beach\n",
       "8              Kigamboni              Yacht Club          Beach\n",
       "9              Kigamboni       Mikadi Beach Camp          Beach\n",
       "10                Ubungo              Yacht Club          Beach"
      ]
     },
     "execution_count": 92,
     "metadata": {},
     "output_type": "execute_result"
    }
   ],
   "source": [
    "dsm_restaurants"
   ]
  },
  {
   "cell_type": "code",
   "execution_count": 83,
   "id": "c4ef4010-dfbc-4051-8dbf-9dc61227228f",
   "metadata": {},
   "outputs": [
    {
     "data": {
      "text/html": [
       "<div>\n",
       "<style scoped>\n",
       "    .dataframe tbody tr th:only-of-type {\n",
       "        vertical-align: middle;\n",
       "    }\n",
       "\n",
       "    .dataframe tbody tr th {\n",
       "        vertical-align: top;\n",
       "    }\n",
       "\n",
       "    .dataframe thead th {\n",
       "        text-align: right;\n",
       "    }\n",
       "</style>\n",
       "<table border=\"1\" class=\"dataframe\">\n",
       "  <thead>\n",
       "    <tr style=\"text-align: right;\">\n",
       "      <th></th>\n",
       "      <th>Neighborhood</th>\n",
       "      <th>Venue</th>\n",
       "      <th>Venue Category</th>\n",
       "    </tr>\n",
       "  </thead>\n",
       "  <tbody>\n",
       "    <tr>\n",
       "      <th>1</th>\n",
       "      <td>Temeke</td>\n",
       "      <td>National Museum of Tanzania</td>\n",
       "      <td>Museum</td>\n",
       "    </tr>\n",
       "    <tr>\n",
       "      <th>2</th>\n",
       "      <td>Temeke</td>\n",
       "      <td>Makumbusho Village</td>\n",
       "      <td>History Museum</td>\n",
       "    </tr>\n",
       "    <tr>\n",
       "      <th>3</th>\n",
       "      <td>Kigamboni</td>\n",
       "      <td>National Museum of Tanzania</td>\n",
       "      <td>Museum</td>\n",
       "    </tr>\n",
       "  </tbody>\n",
       "</table>\n",
       "</div>"
      ],
      "text/plain": [
       "  Neighborhood                        Venue  Venue Category\n",
       "1       Temeke  National Museum of Tanzania          Museum\n",
       "2       Temeke           Makumbusho Village  History Museum\n",
       "3    Kigamboni  National Museum of Tanzania          Museum"
      ]
     },
     "execution_count": 83,
     "metadata": {},
     "output_type": "execute_result"
    }
   ],
   "source": [
    "dsm_restaurants.head(50)"
   ]
  },
  {
   "cell_type": "code",
   "execution_count": null,
   "id": "a60ef656-6654-45c5-b465-c66c434ac35b",
   "metadata": {},
   "outputs": [],
   "source": []
  }
 ],
 "metadata": {
  "kernelspec": {
   "display_name": "Python 3",
   "language": "python",
   "name": "python3"
  },
  "language_info": {
   "codemirror_mode": {
    "name": "ipython",
    "version": 3
   },
   "file_extension": ".py",
   "mimetype": "text/x-python",
   "name": "python",
   "nbconvert_exporter": "python",
   "pygments_lexer": "ipython3",
   "version": "3.8.8"
  }
 },
 "nbformat": 4,
 "nbformat_minor": 5
}
